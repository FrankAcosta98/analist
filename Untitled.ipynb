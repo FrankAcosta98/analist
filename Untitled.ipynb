{
 "cells": [
  {
   "cell_type": "markdown",
   "metadata": {},
   "source": [
    "$$ R_{t,t+1} = \\frac{P_{t+1}-P{t}}{P_{t}} $$\n",
    "\n",
    "Ó\n",
    "\n",
    "$$ R_{t,{t+1}} = \\frac{P_{t+1}}{P_{t}} -1 $$"
   ]
  },
  {
   "cell_type": "code",
   "execution_count": 10,
   "metadata": {},
   "outputs": [],
   "source": [
    "import numpy as np\n",
    "import pandas as pd\n"
   ]
  },
  {
   "cell_type": "code",
   "execution_count": 11,
   "metadata": {},
   "outputs": [
    {
     "output_type": "execute_result",
     "data": {
      "text/plain": "    Azul  Naranja\n0      9       11\n1      9        8\n2     10       11\n3     11       10\n4      9       12\n5     10       11\n6      9       11\n7      8       11\n8     10       12\n9     12       10\n10    12        9\n11    11        9\n12    10       12\n13    12       12\n14     8        8\n15     9        9\n16    10       12\n17     9       11\n18     8        8\n19     8        9\n20     9       10\n21    10        8\n22    10       10\n23    12       11\n24    11       11\n25    12       10",
      "text/html": "<div>\n<style scoped>\n    .dataframe tbody tr th:only-of-type {\n        vertical-align: middle;\n    }\n\n    .dataframe tbody tr th {\n        vertical-align: top;\n    }\n\n    .dataframe thead th {\n        text-align: right;\n    }\n</style>\n<table border=\"1\" class=\"dataframe\">\n  <thead>\n    <tr style=\"text-align: right;\">\n      <th></th>\n      <th>Azul</th>\n      <th>Naranja</th>\n    </tr>\n  </thead>\n  <tbody>\n    <tr>\n      <th>0</th>\n      <td>9</td>\n      <td>11</td>\n    </tr>\n    <tr>\n      <th>1</th>\n      <td>9</td>\n      <td>8</td>\n    </tr>\n    <tr>\n      <th>2</th>\n      <td>10</td>\n      <td>11</td>\n    </tr>\n    <tr>\n      <th>3</th>\n      <td>11</td>\n      <td>10</td>\n    </tr>\n    <tr>\n      <th>4</th>\n      <td>9</td>\n      <td>12</td>\n    </tr>\n    <tr>\n      <th>5</th>\n      <td>10</td>\n      <td>11</td>\n    </tr>\n    <tr>\n      <th>6</th>\n      <td>9</td>\n      <td>11</td>\n    </tr>\n    <tr>\n      <th>7</th>\n      <td>8</td>\n      <td>11</td>\n    </tr>\n    <tr>\n      <th>8</th>\n      <td>10</td>\n      <td>12</td>\n    </tr>\n    <tr>\n      <th>9</th>\n      <td>12</td>\n      <td>10</td>\n    </tr>\n    <tr>\n      <th>10</th>\n      <td>12</td>\n      <td>9</td>\n    </tr>\n    <tr>\n      <th>11</th>\n      <td>11</td>\n      <td>9</td>\n    </tr>\n    <tr>\n      <th>12</th>\n      <td>10</td>\n      <td>12</td>\n    </tr>\n    <tr>\n      <th>13</th>\n      <td>12</td>\n      <td>12</td>\n    </tr>\n    <tr>\n      <th>14</th>\n      <td>8</td>\n      <td>8</td>\n    </tr>\n    <tr>\n      <th>15</th>\n      <td>9</td>\n      <td>9</td>\n    </tr>\n    <tr>\n      <th>16</th>\n      <td>10</td>\n      <td>12</td>\n    </tr>\n    <tr>\n      <th>17</th>\n      <td>9</td>\n      <td>11</td>\n    </tr>\n    <tr>\n      <th>18</th>\n      <td>8</td>\n      <td>8</td>\n    </tr>\n    <tr>\n      <th>19</th>\n      <td>8</td>\n      <td>9</td>\n    </tr>\n    <tr>\n      <th>20</th>\n      <td>9</td>\n      <td>10</td>\n    </tr>\n    <tr>\n      <th>21</th>\n      <td>10</td>\n      <td>8</td>\n    </tr>\n    <tr>\n      <th>22</th>\n      <td>10</td>\n      <td>10</td>\n    </tr>\n    <tr>\n      <th>23</th>\n      <td>12</td>\n      <td>11</td>\n    </tr>\n    <tr>\n      <th>24</th>\n      <td>11</td>\n      <td>11</td>\n    </tr>\n    <tr>\n      <th>25</th>\n      <td>12</td>\n      <td>10</td>\n    </tr>\n  </tbody>\n</table>\n</div>"
     },
     "metadata": {},
     "execution_count": 11
    }
   ],
   "source": [
    "precios = pd.read_csv('ejemplo.csv')\n",
    "precios"
   ]
  },
  {
   "cell_type": "code",
   "execution_count": 15,
   "metadata": {},
   "outputs": [
    {
     "output_type": "execute_result",
     "data": {
      "text/plain": "        Azul   Naranja\n1   0.000000 -0.272727\n2   0.111111  0.375000\n3   0.100000 -0.090909\n4  -0.181818  0.200000\n5   0.111111 -0.083333\n6  -0.100000  0.000000\n7  -0.111111  0.000000\n8   0.250000  0.090909\n9   0.200000 -0.166667\n10  0.000000 -0.100000\n11 -0.083333  0.000000\n12 -0.090909  0.333333\n13  0.200000  0.000000\n14 -0.333333 -0.333333\n15  0.125000  0.125000\n16  0.111111  0.333333\n17 -0.100000 -0.083333\n18 -0.111111 -0.272727\n19  0.000000  0.125000\n20  0.125000  0.111111\n21  0.111111 -0.200000\n22  0.000000  0.250000\n23  0.200000  0.100000\n24 -0.083333  0.000000\n25  0.090909 -0.090909",
      "text/html": "<div>\n<style scoped>\n    .dataframe tbody tr th:only-of-type {\n        vertical-align: middle;\n    }\n\n    .dataframe tbody tr th {\n        vertical-align: top;\n    }\n\n    .dataframe thead th {\n        text-align: right;\n    }\n</style>\n<table border=\"1\" class=\"dataframe\">\n  <thead>\n    <tr style=\"text-align: right;\">\n      <th></th>\n      <th>Azul</th>\n      <th>Naranja</th>\n    </tr>\n  </thead>\n  <tbody>\n    <tr>\n      <th>1</th>\n      <td>0.000000</td>\n      <td>-0.272727</td>\n    </tr>\n    <tr>\n      <th>2</th>\n      <td>0.111111</td>\n      <td>0.375000</td>\n    </tr>\n    <tr>\n      <th>3</th>\n      <td>0.100000</td>\n      <td>-0.090909</td>\n    </tr>\n    <tr>\n      <th>4</th>\n      <td>-0.181818</td>\n      <td>0.200000</td>\n    </tr>\n    <tr>\n      <th>5</th>\n      <td>0.111111</td>\n      <td>-0.083333</td>\n    </tr>\n    <tr>\n      <th>6</th>\n      <td>-0.100000</td>\n      <td>0.000000</td>\n    </tr>\n    <tr>\n      <th>7</th>\n      <td>-0.111111</td>\n      <td>0.000000</td>\n    </tr>\n    <tr>\n      <th>8</th>\n      <td>0.250000</td>\n      <td>0.090909</td>\n    </tr>\n    <tr>\n      <th>9</th>\n      <td>0.200000</td>\n      <td>-0.166667</td>\n    </tr>\n    <tr>\n      <th>10</th>\n      <td>0.000000</td>\n      <td>-0.100000</td>\n    </tr>\n    <tr>\n      <th>11</th>\n      <td>-0.083333</td>\n      <td>0.000000</td>\n    </tr>\n    <tr>\n      <th>12</th>\n      <td>-0.090909</td>\n      <td>0.333333</td>\n    </tr>\n    <tr>\n      <th>13</th>\n      <td>0.200000</td>\n      <td>0.000000</td>\n    </tr>\n    <tr>\n      <th>14</th>\n      <td>-0.333333</td>\n      <td>-0.333333</td>\n    </tr>\n    <tr>\n      <th>15</th>\n      <td>0.125000</td>\n      <td>0.125000</td>\n    </tr>\n    <tr>\n      <th>16</th>\n      <td>0.111111</td>\n      <td>0.333333</td>\n    </tr>\n    <tr>\n      <th>17</th>\n      <td>-0.100000</td>\n      <td>-0.083333</td>\n    </tr>\n    <tr>\n      <th>18</th>\n      <td>-0.111111</td>\n      <td>-0.272727</td>\n    </tr>\n    <tr>\n      <th>19</th>\n      <td>0.000000</td>\n      <td>0.125000</td>\n    </tr>\n    <tr>\n      <th>20</th>\n      <td>0.125000</td>\n      <td>0.111111</td>\n    </tr>\n    <tr>\n      <th>21</th>\n      <td>0.111111</td>\n      <td>-0.200000</td>\n    </tr>\n    <tr>\n      <th>22</th>\n      <td>0.000000</td>\n      <td>0.250000</td>\n    </tr>\n    <tr>\n      <th>23</th>\n      <td>0.200000</td>\n      <td>0.100000</td>\n    </tr>\n    <tr>\n      <th>24</th>\n      <td>-0.083333</td>\n      <td>0.000000</td>\n    </tr>\n    <tr>\n      <th>25</th>\n      <td>0.090909</td>\n      <td>-0.090909</td>\n    </tr>\n  </tbody>\n</table>\n</div>"
     },
     "metadata": {},
     "execution_count": 15
    }
   ],
   "source": [
    "reingreso=precios.pct_change()\n",
    "reingreso[1:]"
   ]
  },
  {
   "cell_type": "code",
   "execution_count": null,
   "metadata": {},
   "outputs": [],
   "source": [
    "reingreso."
   ]
  }
 ],
 "metadata": {
  "kernelspec": {
   "display_name": "Python 3",
   "language": "python",
   "name": "python3"
  },
  "language_info": {
   "codemirror_mode": {
    "name": "ipython",
    "version": 3
   },
   "file_extension": ".py",
   "mimetype": "text/x-python",
   "name": "python",
   "nbconvert_exporter": "python",
   "pygments_lexer": "ipython3",
   "version": "3.7.7-final"
  }
 },
 "nbformat": 4,
 "nbformat_minor": 4
}